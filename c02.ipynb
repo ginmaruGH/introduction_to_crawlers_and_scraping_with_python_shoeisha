{
 "cells": [
  {
   "attachments": {},
   "cell_type": "markdown",
   "metadata": {},
   "source": [
    "# Chap.02 クローラーを設計する"
   ]
  },
  {
   "attachments": {},
   "cell_type": "markdown",
   "metadata": {},
   "source": [
    "## 01 クローラーの設計の基本"
   ]
  },
  {
   "attachments": {},
   "cell_type": "markdown",
   "metadata": {},
   "source": [
    "### クローラーの種類"
   ]
  },
  {
   "attachments": {},
   "cell_type": "markdown",
   "metadata": {},
   "source": [
    "### 目的と対象を明確にする"
   ]
  },
  {
   "attachments": {},
   "cell_type": "markdown",
   "metadata": {},
   "source": [
    "### URL構造を確認する\n",
    "\n",
    "- サイトマップをツリー構造で提供しているサイト\n",
    "- サイトマップをXMLで提供しているサイト\n",
    "- サイトマップが得られない場合"
   ]
  },
  {
   "attachments": {},
   "cell_type": "markdown",
   "metadata": {},
   "source": [
    "### 目的とするデータの提供がないか確認する\n",
    "\n",
    "- [Wikipedia:データベースダウンロード](https://ja.wikipedia.org/wiki/Wikipedia:%E3%83%87%E3%83%BC%E3%82%BF%E3%83%99%E3%83%BC%E3%82%B9%E3%83%80%E3%82%A6%E3%83%B3%E3%83%AD%E3%83%BC%E3%83%89)\n",
    "- [Index of /jawiki/](https://dumps.wikimedia.org/jawiki/)"
   ]
  },
  {
   "attachments": {},
   "cell_type": "markdown",
   "metadata": {},
   "source": [
    "### Web API\n",
    "\n",
    "- [Qiita Developer APIv2](https://qiita.com/api/v2/docs)\n",
    "- [Qiita: Web API アクセスサンプル](https://qiita.com/api/v2/items?page=1&per_page=20)\n",
    "- [Qiita: Pythonタグが付けられた新着投稿](https://qiita.com/tags/python/feed.atom)"
   ]
  },
  {
   "attachments": {},
   "cell_type": "markdown",
   "metadata": {},
   "source": [
    "## 02 クローラーの持つ各処理工程ごとの設計と注意点"
   ]
  },
  {
   "attachments": {},
   "cell_type": "markdown",
   "metadata": {},
   "source": [
    "### 設計の勘所\n",
    "\n",
    "クローラーの各処理工程\n",
    "\n",
    "- 収集\n",
    "  - ネットワーク上のデータにリクエストする。\n",
    "  - リンクがあれば収集し、さらにそれらのリンクに対してもリクエストする。\n",
    "- 解析\n",
    "  - パース。\n",
    "  - テキストデータを構造化データに変換する。\n",
    "- 抽出\n",
    "  - 対象データを構造化データの特定のキーから取り出したり、\n",
    "  - スクレイピングや正規表現を使って抽出する。\n",
    "- 加工\n",
    "  - 利用形態に合わせて、抽出したデータからノイズを取り除いたり、\n",
    "  - 正規化したり、\n",
    "  - 画像処理をしたりする。\n",
    "- 保存\n",
    "  - 収集したページや、抽出・加工したデータをデータストレージに保存する。"
   ]
  },
  {
   "attachments": {},
   "cell_type": "markdown",
   "metadata": {},
   "source": [
    "### ネットワークリクエスト\n",
    "\n",
    "- 間隔を設ける\n",
    "- タイムアウト\n",
    "- リトライ\n",
    "\n",
    "&nbsp;\n",
    "\n",
    "- Exponential Backoff\n",
    "  - リトライまでの最適な時間をシステムが計算すること。"
   ]
  },
  {
   "attachments": {},
   "cell_type": "markdown",
   "metadata": {},
   "source": [
    "### パース（解析）\n",
    "\n",
    "- 文字コード\n",
    "  - フォールバック\n",
    "    - システム障害時に最低限の仕様でシステムを維持すること。\n",
    "- HTML/XML解析\n",
    "  - [HTML Tidy Legacy Website](https://tidy.sourceforge.net/)\n",
    "  - [Beautiful Soup](https://www.crummy.com/software/BeautifulSoup/)\n",
    "  - [lxml](https://lxml.de/index.html)\n",
    "- JSONデコーダー"
   ]
  },
  {
   "attachments": {},
   "cell_type": "markdown",
   "metadata": {},
   "source": [
    "### スクレイピングと正規表現\n",
    "\n",
    "- URL正規化\n",
    "  - プロトコル、ホスト名を含んだ絶対リンクに修正する。\n",
    "- テスト\n",
    "  - `スクレイピング関数（入力HTML） = 抽出結果として期待する株価の数値`"
   ]
  },
  {
   "attachments": {},
   "cell_type": "markdown",
   "metadata": {},
   "source": [
    "### データストレージの選定と構造\n",
    "\n",
    "- ファイル\n",
    "  - SHA-1形式\n",
    "    - Secure Hash Algorithm\n",
    "    - 同規格の暗号を用いたハッシュ関数の形式の1つ\n",
    "- データベース\n",
    "  - カラム型BLOB\n",
    "- データの存在確認\n",
    "  - URLとは別にURLのハッシュの別のカラムに保存する。"
   ]
  },
  {
   "attachments": {},
   "cell_type": "markdown",
   "metadata": {},
   "source": [
    "## 03 バッチ作成の注意点"
   ]
  },
  {
   "attachments": {},
   "cell_type": "markdown",
   "metadata": {},
   "source": [
    "### バッチ（バッチプログラム）とは\n",
    "\n",
    "- あらかじめ定められた一連の処理の流れを一度に行うこと。\n",
    "\n",
    "&nbsp;\n",
    "\n",
    "- 工程ごとの分離\n",
    "  - ネットワークリクエスト処理\n",
    "  - スクレイピング処理\n",
    "  - 分離の粒度のバランス\n",
    "\n",
    "&nbsp;\n",
    "\n",
    "- 中間データを保存しておく\n",
    "  - ネットワークリクエストしたデータの保存\n",
    "  - リクエストに失敗したページのみをリクエストする仕組み\n",
    "\n",
    "&nbsp;\n",
    "\n",
    "- 実行時間と経過がわかるようにする\n",
    "  - 処理中のURLや工程のラベル表示\n",
    "  - HTTPステータスコード\n",
    "\n",
    "&nbsp;\n",
    "\n",
    "- 停止条件を明確にする\n",
    "  - 無限ループの回避\n",
    "\n",
    "&nbsp;\n",
    "\n",
    "- 関数の引数をシンプルにする\n",
    "  - 中間データを保存しておき、そのキーを引数にする。\n",
    "\n",
    "&nbsp;\n",
    "\n",
    "- 日時の扱いに注意する\n",
    "  - UTCで統一する。\n",
    "  - NTPも保存する。"
   ]
  },
  {
   "attachments": {},
   "cell_type": "markdown",
   "metadata": {},
   "source": [
    "### 設計の例\n",
    "\n",
    "- [吉川英治の作品リスト](https://www.aozora.gr.jp/index_pages/person1562.html)\n",
    "  - ソースを確認する\n",
    "  - 新着の検知の仕組みを考える\n",
    "  - データの保存方法\n",
    "  - ファイルの保存形式\n",
    "\n",
    "&nbsp;\n",
    "\n",
    "- URLのデータベースインデックスの作成\n",
    "  - ハッシュ関数（BLAKE2）"
   ]
  }
 ],
 "metadata": {
  "language_info": {
   "name": "python"
  },
  "orig_nbformat": 4
 },
 "nbformat": 4,
 "nbformat_minor": 2
}
