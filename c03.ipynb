{
 "cells": [
  {
   "attachments": {},
   "cell_type": "markdown",
   "metadata": {},
   "source": [
    "# Chap.03 クローラー及びスクレイピングの開発環境の準備とPythonの基本"
   ]
  },
  {
   "attachments": {},
   "cell_type": "markdown",
   "metadata": {},
   "source": [
    "## 01 Pythonがクローリング・スクレイピングに向いている理由"
   ]
  },
  {
   "attachments": {},
   "cell_type": "markdown",
   "metadata": {},
   "source": [
    "## 02 クローラーおよびスクレイピング用の開発環境を準備する"
   ]
  },
  {
   "attachments": {},
   "cell_type": "markdown",
   "metadata": {},
   "source": [
    "## 03 Python基本講座\n",
    "\n",
    "### インタラクティブシェルシェルとスクリプトファイルの実行\n",
    "\n",
    "### コードの書き方\n",
    "\n",
    "- ステートメントの区切り\n",
    "- コメント\n",
    "\n",
    "### 数値型\n",
    "\n",
    "### 文字列\n",
    "\n",
    "- 検索する\n",
    "- 大文字・小文字に変換する\n",
    "- 分割\n",
    "- 結合\n",
    "\n",
    "### データ構造\n",
    "\n",
    "- データ構造のリスト\n",
    "- タプル\n",
    "\n",
    "### 制御構文\n",
    "\n",
    "- 条件分岐: if\n",
    "- 繰り返し: for, while\n",
    "\n",
    "### 関数とクラス\n",
    "\n",
    "- 関数\n",
    "- クラス\n",
    "- モジュール"
   ]
  }
 ],
 "metadata": {
  "language_info": {
   "name": "python"
  },
  "orig_nbformat": 4
 },
 "nbformat": 4,
 "nbformat_minor": 2
}
