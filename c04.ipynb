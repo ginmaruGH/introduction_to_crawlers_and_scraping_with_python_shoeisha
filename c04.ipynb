{
 "cells": [
  {
   "attachments": {},
   "cell_type": "markdown",
   "metadata": {},
   "source": [
    "# Chap.04 スクレイピングの基本"
   ]
  },
  {
   "attachments": {},
   "cell_type": "markdown",
   "metadata": {},
   "source": [
    "## 01 ライブラリのインストール"
   ]
  },
  {
   "attachments": {},
   "cell_type": "markdown",
   "metadata": {},
   "source": [
    "## 02 Webページをスクレイピングする"
   ]
  },
  {
   "attachments": {},
   "cell_type": "markdown",
   "metadata": {},
   "source": [
    "### ライブラリをインストールする\n",
    "\n",
    "- Requests\n",
    "- lxml\n",
    "- cssselect"
   ]
  },
  {
   "attachments": {},
   "cell_type": "markdown",
   "metadata": {},
   "source": [
    "### Web上のリソースを取得する\n",
    "\n",
    "- RequestsでWeb上のリソースを取得する\n",
    "- REquestsのレスポンス\n",
    "- JSONのパース"
   ]
  },
  {
   "attachments": {},
   "cell_type": "markdown",
   "metadata": {},
   "source": [
    "### XPathとCSSセレクター\n",
    "\n",
    "- XPathで要素を指定する\n",
    "- CSSセレクターで要素を指定する"
   ]
  },
  {
   "attachments": {},
   "cell_type": "markdown",
   "metadata": {},
   "source": [
    "### HTMLソースを解析する\n",
    "\n",
    "- 抜き出したい要素のXPathとCSSセレクターを取得する\n",
    "- lxmlでスクレイピング"
   ]
  },
  {
   "attachments": {},
   "cell_type": "markdown",
   "metadata": {},
   "source": [
    "## 03 RSSをスクレイピングする"
   ]
  },
  {
   "attachments": {},
   "cell_type": "markdown",
   "metadata": {},
   "source": [
    "### ライブラリのインストール\n",
    "\n",
    "- feedparser\n",
    "- XMLを解析する"
   ]
  },
  {
   "attachments": {},
   "cell_type": "markdown",
   "metadata": {},
   "source": [
    "## 04 データをデータベースに保存して解析する"
   ]
  },
  {
   "attachments": {},
   "cell_type": "markdown",
   "metadata": {},
   "source": [
    "### データをデータベースに保存して呼び出す"
   ]
  },
  {
   "attachments": {},
   "cell_type": "markdown",
   "metadata": {},
   "source": [
    "### MySQLのインストール\n",
    "\n",
    "- `brew install mysql`\n",
    "- `mysql --version`\n",
    "- `mysql.server start`"
   ]
  },
  {
   "attachments": {},
   "cell_type": "markdown",
   "metadata": {},
   "source": [
    "### データベースとユーザーを作成する\n",
    "\n",
    "- rootユーザーとして、ユーザーを指定し、パスワードを指定しない。\n",
    "  - `mysql -u root -p`\n",
    "  - パスワードを入力せず、`[Enter]`\n",
    "- データベースとの接続を解除する\n",
    "  - `exit`\n",
    "  - `[Ctrl] + [D]`\n",
    "- データベースの作成\n",
    "  - データベース名: scrapingdata\n",
    "  - 文字コード: utf8\n",
    "  - `CREATE DATABASE scrapingdata DEFAULT CHARACTER SET utf8;`\n",
    "- ユーザーの作成\n",
    "  - ユーザー名: scrapingman\n",
    "  - パスワード: myPassword-1\n",
    "  - `CREATE USER \"scrapingman\" IDENTIFIED BY \"myPassword-1\"`\n",
    "- ユーザーscrapingmanに読み書きの権限を与える\n",
    "  - `GRANT ALL ON scrapingdata.* TO scrapingman;`"
   ]
  },
  {
   "attachments": {},
   "cell_type": "markdown",
   "metadata": {},
   "source": [
    "### PythonからMySQLに接続する\n",
    "\n",
    "- mysqlclientのインストール\n",
    "  - `pip install mysqlclient`\n",
    "\n",
    "&nbsp;\n",
    "\n",
    "```python\n",
    "import MySQLdb\n",
    "\n",
    "# データベースに接続する\n",
    "connection = MySQLdb.connect(\n",
    "    user=\"scrapingman\",\n",
    "    passwd=\"myPassword-1\",\n",
    "    host=\"localhost\",\n",
    "    db=\"scrapingdata\",\n",
    "    charset=\"utf-8\"\n",
    ")\n",
    "\n",
    "# カーソルを生成する\n",
    "cursor = connection.cursor()\n",
    "\n",
    "# 実行するたびに同じ結果なるようにテーブルを削除しておく\n",
    "cursor.execute(\"DROP TABLE IF EXISTS books\")\n",
    "\n",
    "# テーブルを作成する\n",
    "cursor.execute(\"CREATE TABLE books (title text, url text)\")\n",
    "\n",
    "# データを保存する\n",
    "cursor.execute(\n",
    "    \"INSERT INTO books VALUES(%s, %s)\",\n",
    "    (\"はじめてのPython\", \"https://example.com\")\n",
    ")\n",
    "\n",
    "# 変更をコミットする\n",
    "connection.commit()\n",
    "\n",
    "# 接続を閉じる\n",
    "connection.close()\n",
    "```\n",
    "\n",
    "&nbsp;\n",
    "\n",
    "```python\n",
    "# connect関数の戻り値を確認する\n",
    "type(connection)\n",
    "\n",
    "# カーソルを確認する\n",
    "type(cursor)\n",
    "```\n",
    "\n",
    "&nbsp;\n",
    "\n",
    "- テーブルを確認する\n",
    "\n",
    "```bash\n",
    "mysql -u root -p\n",
    "```\n",
    "\n",
    "```bash\n",
    "mysql> use scrapingdata;\n",
    "```\n",
    "\n",
    "```bash\n",
    "mysql> select * from books;\n",
    "```\n",
    "\n",
    "```bash\n",
    "mysql> exit\n",
    "```"
   ]
  },
  {
   "attachments": {},
   "cell_type": "markdown",
   "metadata": {},
   "source": [
    "### 解析した結果を保存する\n",
    "\n",
    "```python\n",
    "# chap04_04.py\n",
    "import feedparser\n",
    "import MySQLdb\n",
    "\n",
    "# データベースに接続する\n",
    "connection = MySQLdb.connect(\n",
    "    user=\"scrapingman\",\n",
    "    passwd=\"myPassword-1\",\n",
    "    host=\"localhost\",\n",
    "    db=\"scrapingdata\",\n",
    "    charset=\"utf-8\"\n",
    ")\n",
    "\n",
    "# カーソルを生成する\n",
    "cursor = connection.cursor()\n",
    "\n",
    "# 実行するたびに同じ結果になるようにテーブルを削除しておく\n",
    "cursor.execute(\"DROP TABLE IF EXISTS books\")\n",
    "\n",
    "# テーブルを作成する\n",
    "cursor.execute(\"CREATE TABLE books (title text, url text)\")\n",
    "\n",
    "# URLを指定してFeedParserDictオブジェクトを取得する\n",
    "rss = feedparser.parse(\"https://www.shoeisha.co.jp/rss/index.html\")\n",
    "\n",
    "# RSSのバージョンを表示する\n",
    "print(rss.version)\n",
    "\n",
    "# フィードタイトルとコンテンツの発行日時を表示する\n",
    "print(rss[\"feed\"][\"title\"])\n",
    "print(rss[\"feed\"][\"published\"])\n",
    "\n",
    "# 各エントリーのタイトルとリンクを表示する\n",
    "for content in rss[\"entries\"]:\n",
    "    # データを保存する\n",
    "    cursor.execute(\n",
    "        \"INSERT INTO books VALUES(%s, %s)\",\n",
    "        (content[\"title\"], content[\"link\"])\n",
    "    )\n",
    "\n",
    "# 変更をコミットする\n",
    "connection.commit()\n",
    "\n",
    "# 接続を閉じる\n",
    "connection.close()\n",
    "```"
   ]
  },
  {
   "attachments": {},
   "cell_type": "markdown",
   "metadata": {},
   "source": [
    "### シェルからスクリプトから実行\n",
    "\n",
    "```bash\n",
    "# スクリプトの実行\n",
    "python chap04_04.py\n",
    "```\n",
    "\n",
    "```bash\n",
    "# MySQLの接続\n",
    "mysql -u root -p\n",
    "```\n",
    "\n",
    "```bash\n",
    "mysql> use scrapingdata;\n",
    "```\n",
    "\n",
    "```bash\n",
    "mysql> select * from books:\n",
    "```"
   ]
  }
 ],
 "metadata": {
  "language_info": {
   "name": "python"
  },
  "orig_nbformat": 4
 },
 "nbformat": 4,
 "nbformat_minor": 2
}
