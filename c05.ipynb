{
 "cells": [
  {
   "attachments": {},
   "cell_type": "markdown",
   "metadata": {},
   "source": [
    "# Chap.05 クローラーの設計・開発（応用編）"
   ]
  },
  {
   "attachments": {},
   "cell_type": "markdown",
   "metadata": {},
   "source": [
    "## 01 クローラーをもっと進化させるには\n",
    "\n",
    "### クローリング開発で直面する問題とその解決策とは\n",
    "\n",
    "- 非要件機能\n",
    "  - バグや想定外の挙動を発見し、修正していく開発過程\n",
    "- プログラム開発は継続的なもの\n",
    "  - より効率的な動作を目指した改良\n",
    "  - 保守・運用"
   ]
  },
  {
   "attachments": {},
   "cell_type": "markdown",
   "metadata": {},
   "source": [
    "## 02 print関数でログを出力する"
   ]
  },
  {
   "attachments": {},
   "cell_type": "markdown",
   "metadata": {},
   "source": [
    "### ログを画面やファイルに出力する方法\n",
    "\n",
    "- print関数と出力フォーマット\n",
    "  - `print(\"label: \" + value)`\n",
    "\n",
    "&nbsp;\n",
    "\n",
    "- リクエストにかかった時間を表示する\n",
    "\n",
    "```python\n",
    "# get_example_domain_pages.py\n",
    "import time\n",
    "\n",
    "import requests\n",
    "\n",
    "PAGE_URL_LIST = [\n",
    "    \"https://example.com/1.page\",\n",
    "    \"https://example.com/2.page\",\n",
    "    \"https://example.com/3.page\",\n",
    "]\n",
    "\n",
    "for page_url in PAGE_URL_LIST:\n",
    "    res = requests.get(page_url, timeout=30)\n",
    "    print(\n",
    "        \"ページURL: \" + page_url + \",\" + \\\n",
    "        \"HTTPステータス: \" + str(res.status_code) + \",\" + \\\n",
    "        \"処理時間（秒）: \" + str(res.elapsed.total_seconds())\n",
    "    )\n",
    "    time.sleep(1)\n",
    "```\n",
    "\n",
    "&nbsp;\n",
    "\n",
    "```python\n",
    "# get_example_domain_pages.py\n",
    "import time\n",
    "\n",
    "import requests\n",
    "\n",
    "PAGE_URL_LIST = [\n",
    "    \"https://example.com/1.page\",\n",
    "    \"https://example.com/2.page\",\n",
    "    \"https://example.com/3.page\",\n",
    "]\n",
    "\n",
    "for page_url in PAGE_URL_LIST:\n",
    "    res = requests.get(page_url, timeout=30)\n",
    "    print(\n",
    "        f{\n",
    "            ページURL: {page_url}, \\\n",
    "            HTTPステータス: {res.status_code}, \\\n",
    "            処理時間（秒）: {res.elapsed.total_seconds()}\n",
    "        }\n",
    "    )\n",
    "    time.sleep(1)\n",
    "```"
   ]
  },
  {
   "attachments": {},
   "cell_type": "markdown",
   "metadata": {},
   "source": [
    "### ログ出力に関するさまざまな改善の必要性\n",
    "\n",
    "- コンソール画面への出力と同時にファイルにも出力する\n",
    "  - `python crawler.py | tee -a crawler.log`"
   ]
  },
  {
   "attachments": {},
   "cell_type": "markdown",
   "metadata": {},
   "source": [
    "## 03 loggingモジュールでログを出力して管理する"
   ]
  },
  {
   "attachments": {},
   "cell_type": "markdown",
   "metadata": {},
   "source": [
    "### loggingモジュールを使う"
   ]
  },
  {
   "cell_type": "code",
   "execution_count": 2,
   "metadata": {},
   "outputs": [
    {
     "name": "stdout",
     "output_type": "stream",
     "text": [
      "[INFO] 2023-06-16 21:21:53,201 __main__ logging_sample.py:39 クローリングを開始します。\n",
      "[WARNING] 2023-06-16 21:21:53,201 __main__ logging_sample.py:41 外部サイトのリンクのためクロールしません。\n",
      "[ERROR] 2023-06-16 21:21:53,201 __main__ logging_sample.py:43 ページが見つかりません。\n",
      "[ERROR] 2023-06-16 21:21:53,203 __main__ logging_sample.py:48 リクエスト中に例外が起きました。: MissingSchema(\"Invalid URL '#invalid_url': No scheme supplied. Perhaps you meant https://#invalid_url?\")\n",
      "Traceback (most recent call last):\n",
      "  File \"/Users/takeru/@LEARNING/Python/introduction_to_crawlers_and_scraping_with_python_shoeisha/logging_sample.py\", line 46, in logging_example\n",
      "    r = requests.get(\"#invalid_url\", timeout=1)\n",
      "  File \"/Users/takeru/@LEARNING/Python/introduction_to_crawlers_and_scraping_with_python_shoeisha/venv/lib/python3.10/site-packages/requests/api.py\", line 73, in get\n",
      "    return request(\"get\", url, params=params, **kwargs)\n",
      "  File \"/Users/takeru/@LEARNING/Python/introduction_to_crawlers_and_scraping_with_python_shoeisha/venv/lib/python3.10/site-packages/requests/api.py\", line 59, in request\n",
      "    return session.request(method=method, url=url, **kwargs)\n",
      "  File \"/Users/takeru/@LEARNING/Python/introduction_to_crawlers_and_scraping_with_python_shoeisha/venv/lib/python3.10/site-packages/requests/sessions.py\", line 575, in request\n",
      "    prep = self.prepare_request(req)\n",
      "  File \"/Users/takeru/@LEARNING/Python/introduction_to_crawlers_and_scraping_with_python_shoeisha/venv/lib/python3.10/site-packages/requests/sessions.py\", line 486, in prepare_request\n",
      "    p.prepare(\n",
      "  File \"/Users/takeru/@LEARNING/Python/introduction_to_crawlers_and_scraping_with_python_shoeisha/venv/lib/python3.10/site-packages/requests/models.py\", line 368, in prepare\n",
      "    self.prepare_url(url, params)\n",
      "  File \"/Users/takeru/@LEARNING/Python/introduction_to_crawlers_and_scraping_with_python_shoeisha/venv/lib/python3.10/site-packages/requests/models.py\", line 439, in prepare_url\n",
      "    raise MissingSchema(\n",
      "requests.exceptions.MissingSchema: Invalid URL '#invalid_url': No scheme supplied. Perhaps you meant https://#invalid_url?\n"
     ]
    }
   ],
   "source": [
    "!python logging_sample.py"
   ]
  },
  {
   "attachments": {},
   "cell_type": "markdown",
   "metadata": {},
   "source": [
    "### 辞書形式で設定を記述する"
   ]
  },
  {
   "cell_type": "code",
   "execution_count": 2,
   "metadata": {},
   "outputs": [
    {
     "name": "stdout",
     "output_type": "stream",
     "text": [
      "\u001b[1;30m[DEBUG]\t2023-06-16 21:23:16\tDEBUG レベルです。\u001b[0m\n",
      "\u001b[37m[INFO]\t2023-06-16 21:23:16\tINFO レベルです。\u001b[0m\n",
      "\u001b[33m[WARNING]\t2023-06-16 21:23:16\tWARNING レベルです。\u001b[0m\n",
      "\u001b[31m[ERROR]\t2023-06-16 21:23:16\tERROR レベルです。\u001b[0m\n",
      "\u001b[1;31m[CRITICAL]\t2023-06-16 21:23:16\tCRITICAL レベルです。\u001b[0m\n"
     ]
    }
   ],
   "source": [
    "!python my_logging.py"
   ]
  },
  {
   "attachments": {},
   "cell_type": "markdown",
   "metadata": {},
   "source": [
    "## 04 ログ出力ライブラリでログを管理する"
   ]
  },
  {
   "attachments": {},
   "cell_type": "markdown",
   "metadata": {},
   "source": [
    "### サードパーティのログ出力ライブラリを使う\n",
    "\n",
    "- [Eliot](https://github.com/ScatterHQ/eliot)"
   ]
  },
  {
   "attachments": {},
   "cell_type": "markdown",
   "metadata": {},
   "source": [
    "## 05 並列処理を行う"
   ]
  },
  {
   "attachments": {},
   "cell_type": "markdown",
   "metadata": {},
   "source": [
    "### 並列処理を行う\n",
    "\n",
    "- 並行処理（マルチスレッド）\n",
    "  - 作業を切り替えながら、同時進行させていく\n",
    "- 並列処理（マルチプロセス）\n",
    "  - 作業を分担して、同時進行させていく\n",
    "\n",
    "&nbsp;\n",
    "\n",
    "- コルーチン\n",
    "  - 通常の関数・メソッドと異なり、任意の場所で中断・再開できる機能。\n",
    "  - 中断から再開できるため、内部で状態を保持する。\n",
    "  - 擬似的に並列処理を実現できる。"
   ]
  }
 ],
 "metadata": {
  "kernelspec": {
   "display_name": "venv",
   "language": "python",
   "name": "python3"
  },
  "language_info": {
   "codemirror_mode": {
    "name": "ipython",
    "version": 3
   },
   "file_extension": ".py",
   "mimetype": "text/x-python",
   "name": "python",
   "nbconvert_exporter": "python",
   "pygments_lexer": "ipython3",
   "version": "3.10.11"
  },
  "orig_nbformat": 4
 },
 "nbformat": 4,
 "nbformat_minor": 2
}
