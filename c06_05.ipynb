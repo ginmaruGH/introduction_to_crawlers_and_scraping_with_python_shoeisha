{
 "cells": [
  {
   "attachments": {},
   "cell_type": "markdown",
   "metadata": {},
   "source": [
    "## 05 Scrapyを使ってスクレイピングを行う"
   ]
  },
  {
   "attachments": {},
   "cell_type": "markdown",
   "metadata": {},
   "source": [
    "### さまざまなスクレイピング"
   ]
  },
  {
   "attachments": {},
   "cell_type": "markdown",
   "metadata": {},
   "source": [
    "- プロジェクトを作成する\n",
    "\n",
    "```bash\n",
    "scrapy startproject c06_05\n",
    "\n",
    "cd c06_05\n",
    "```"
   ]
  },
  {
   "attachments": {},
   "cell_type": "markdown",
   "metadata": {},
   "source": [
    "[Scrapy Tutorial](https://doc.scrapy.org/en/latest/intro/tutorial.html)"
   ]
  },
  {
   "attachments": {},
   "cell_type": "markdown",
   "metadata": {},
   "source": [
    "- Itemを定義する\n",
    "\n",
    "```python\n",
    "# items.py\n",
    "\n",
    "import scrapy\n",
    "\n",
    "class Quote(scrapy.Item):\n",
    "    \"\"\"有名人の引用アイテム\"\"\"\n",
    "    author = scrapy.Field()\n",
    "    text = scrapy.Field()\n",
    "    tags = scrapy.Field()\n",
    "```"
   ]
  },
  {
   "attachments": {},
   "cell_type": "markdown",
   "metadata": {},
   "source": [
    "- Spiderを作る\n",
    "  - `-t`: テンプレートの指定\n",
    "    - crawl: Webサイトクロール用テンプレート\n",
    "    - xmlfeed: XMLフィールドクロール用テンプレート\n",
    "    - csvfeed: CSVフィールドクロール用テンプレート\n",
    "  - `quote`: Spider名\n",
    "  - `quotes.toscrape.com`: クロール対象ドメイン\n",
    "\n",
    "```bash\n",
    "scrapy genspider -t crawl quotes quotes.toscrape.com\n",
    "```"
   ]
  },
  {
   "attachments": {},
   "cell_type": "markdown",
   "metadata": {},
   "source": [
    "- クロールを実行する\n",
    "\n",
    "```bash\n",
    "scrapy crawl quotes\n",
    "```"
   ]
  }
 ],
 "metadata": {
  "language_info": {
   "name": "python"
  },
  "orig_nbformat": 4
 },
 "nbformat": 4,
 "nbformat_minor": 2
}
